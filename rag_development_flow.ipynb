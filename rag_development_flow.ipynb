{
  "nbformat": 4,
  "nbformat_minor": 0,
  "metadata": {
    "colab": {
      "provenance": [],
      "authorship_tag": "ABX9TyN7JgB77/SWr8qYeW9ioLq7",
      "include_colab_link": true
    },
    "kernelspec": {
      "name": "python3",
      "display_name": "Python 3"
    },
    "language_info": {
      "name": "python"
    }
  },
  "cells": [
    {
      "cell_type": "markdown",
      "metadata": {
        "id": "view-in-github",
        "colab_type": "text"
      },
      "source": [
        "<a href=\"https://colab.research.google.com/github/3lueLightning/tutorials/blob/main/rag_development_flow.ipynb\" target=\"_parent\"><img src=\"https://colab.research.google.com/assets/colab-badge.svg\" alt=\"Open In Colab\"/></a>"
      ]
    },
    {
      "cell_type": "code",
      "execution_count": 20,
      "metadata": {
        "colab": {
          "base_uri": "https://localhost:8080/"
        },
        "id": "44rxBEt6DTcA",
        "outputId": "ac022322-3e60-410a-e105-6fce5da5a28b"
      },
      "outputs": [
        {
          "output_type": "stream",
          "name": "stdout",
          "text": [
            "\u001b[2K     \u001b[90m━━━━━━━━━━━━━━━━━━━━━━━━━━━━━━━━━━━━━━━━\u001b[0m \u001b[32m2.2/2.2 MB\u001b[0m \u001b[31m21.4 MB/s\u001b[0m eta \u001b[36m0:00:00\u001b[0m\n",
            "\u001b[2K     \u001b[90m━━━━━━━━━━━━━━━━━━━━━━━━━━━━━━━━━━━━━━━━\u001b[0m \u001b[32m49.2/49.2 kB\u001b[0m \u001b[31m5.5 MB/s\u001b[0m eta \u001b[36m0:00:00\u001b[0m\n",
            "\u001b[?25h"
          ]
        }
      ],
      "source": [
        "pip install -q langchain langchain_community"
      ]
    },
    {
      "cell_type": "code",
      "source": [
        "MOVIES_URL = \"https://www.empireonline.com/movies/features/best-movies-2/\""
      ],
      "metadata": {
        "id": "ELyYdTv5P5co"
      },
      "execution_count": 34,
      "outputs": []
    },
    {
      "cell_type": "code",
      "source": [
        "from langchain_community.document_loaders import WebBaseLoader"
      ],
      "metadata": {
        "colab": {
          "base_uri": "https://localhost:8080/"
        },
        "id": "p9sezoUsKcgp",
        "outputId": "363acbc3-bd21-426c-ce74-d902ecf97236"
      },
      "execution_count": 21,
      "outputs": [
        {
          "output_type": "stream",
          "name": "stderr",
          "text": [
            "WARNING:langchain_community.utils.user_agent:USER_AGENT environment variable not set, consider setting it to identify your requests.\n"
          ]
        }
      ]
    },
    {
      "cell_type": "code",
      "source": [
        "import os\n",
        "\n",
        "os.environ[\"USER_AGENT\"] = \"Mozilla/5.0 (Windows NT 10.0; Win64; x64) AppleWebKit/537.36 (KHTML, like Gecko) Chrome/126.0.0.0 Safari/537.36\"\n"
      ],
      "metadata": {
        "id": "WBWDluNXKcj4"
      },
      "execution_count": 32,
      "outputs": []
    },
    {
      "cell_type": "code",
      "source": [
        "tt = WebBaseLoader(MOVIES_URL).load()\n",
        "tt[0].page_content[:200]"
      ],
      "metadata": {
        "id": "0h974qYnP0Bb"
      },
      "execution_count": 36,
      "outputs": []
    },
    {
      "cell_type": "code",
      "source": [
        "from bs4 import SoupStrainer\n",
        "\n",
        "movie_scraper = WebBaseLoader(\n",
        "    MOVIES_URL,\n",
        "    bs_kwargs = {\n",
        "        \"parse_only\": SoupStrainer(\"div\", class_=\"listicleItem_listicle-item__content__Lxn1Y\")\n",
        "    }\n",
        ")"
      ],
      "metadata": {
        "id": "xCAe9L9pPDOh"
      },
      "execution_count": 42,
      "outputs": []
    },
    {
      "cell_type": "code",
      "source": [
        "movie_reviews_raw = movie_scraper.load()"
      ],
      "metadata": {
        "id": "Z1zfvJULPDRJ"
      },
      "execution_count": 43,
      "outputs": []
    },
    {
      "cell_type": "code",
      "source": [
        "from langchain.docstore.document import Document\n",
        "\n",
        "def split_movies(page):\n",
        "  movie_reviews = page.page_content.strip().split(\"\\n\\n\")\n",
        "  movie_reviews = [reviews.split(\"\\n\")[0].strip() for reviews in movie_reviews]\n",
        "  movie_docs = [Document(review, metadata=page.metadata) for review in movie_reviews]\n",
        "  return movie_docs"
      ],
      "metadata": {
        "id": "hP-dJTmDby2f"
      },
      "execution_count": 101,
      "outputs": []
    },
    {
      "cell_type": "code",
      "source": [
        "movie_reviews = split_movies(movie_reviews_raw[0])\n",
        "movie_reviews[0]"
      ],
      "metadata": {
        "colab": {
          "base_uri": "https://localhost:8080/"
        },
        "id": "dhkDp7rtS5VN",
        "outputId": "8d6e7276-3a2c-48cd-8062-d6a60c583b78"
      },
      "execution_count": 102,
      "outputs": [
        {
          "output_type": "execute_result",
          "data": {
            "text/plain": [
              "Document(page_content=\"Making his uber cool and supremely confident directorial debut, Quentin Tarantino hit audiences with a terrific twist on the heist-gone-wrong thriller. For the most part a single location chamber piece, Reservoir Dogs delights in ricocheting the zing and fizz of its dialogue around its gloriously —and indeed gore-iously) — intense setting, with the majority of the movie's action centring around one long and incredibly bloody death scene. Packing killer lines, killer needledrops, and killer, er, killers too, not only is this a rollicking ride in its own right, but it also set the blueprint for everything we've come to expect from a Tarantino joint. Oh, and by the way: Nice Guy Eddie was shot by Mr. White. Who fired twice. Case closed.\", metadata={'source': 'https://www.empireonline.com/movies/features/best-movies-2/'})"
            ]
          },
          "metadata": {},
          "execution_count": 102
        }
      ]
    },
    {
      "cell_type": "code",
      "source": [],
      "metadata": {
        "id": "Ic1PIVFiPDWV"
      },
      "execution_count": null,
      "outputs": []
    },
    {
      "cell_type": "code",
      "source": [],
      "metadata": {
        "id": "9rE3emNlNtHS"
      },
      "execution_count": null,
      "outputs": []
    }
  ]
}