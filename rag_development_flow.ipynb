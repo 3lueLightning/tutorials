{
  "nbformat": 4,
  "nbformat_minor": 0,
  "metadata": {
    "colab": {
      "provenance": [],
      "authorship_tag": "ABX9TyORpDdouvRcORDqVMa6aUvR",
      "include_colab_link": true
    },
    "kernelspec": {
      "name": "python3",
      "display_name": "Python 3"
    },
    "language_info": {
      "name": "python"
    }
  },
  "cells": [
    {
      "cell_type": "markdown",
      "metadata": {
        "id": "view-in-github",
        "colab_type": "text"
      },
      "source": [
        "<a href=\"https://colab.research.google.com/github/3lueLightning/tutorials/blob/main/rag_development_flow.ipynb\" target=\"_parent\"><img src=\"https://colab.research.google.com/assets/colab-badge.svg\" alt=\"Open In Colab\"/></a>"
      ]
    },
    {
      "cell_type": "code",
      "execution_count": 1,
      "metadata": {
        "id": "44rxBEt6DTcA"
      },
      "outputs": [],
      "source": [
        "! pip install -q langchain langchain_community tiktoken langchain_openai langchain_text_splitters docarray langsmith"
      ]
    },
    {
      "cell_type": "markdown",
      "source": [
        "# Loading the data\n",
        "For this example we will be extracting the a list of the top 100 best movies of all time according to the magazin Empire. Let me know in the comments if you agree with the list ;)"
      ],
      "metadata": {
        "id": "2xQL7kP1xeuw"
      }
    },
    {
      "cell_type": "code",
      "source": [
        "import os\n",
        "from langchain_community.document_loaders import WebBaseLoader\n",
        "\n",
        "# to improve our chances of not being blocked online we set a user agent to\n",
        "# out crawler. This means\n",
        "os.environ[\"USER_AGENT\"] = \"Mozilla/5.0 (Windows NT 10.0; Win64; x64) AppleWebKit/537.36 (KHTML, like Gecko) Chrome/126.0.0.0 Safari/537.36\"\n"
      ],
      "metadata": {
        "colab": {
          "base_uri": "https://localhost:8080/"
        },
        "id": "WBWDluNXKcj4",
        "outputId": "5df20c09-1e4e-4c03-848d-ae07bf502113"
      },
      "execution_count": 2,
      "outputs": [
        {
          "output_type": "stream",
          "name": "stderr",
          "text": [
            "WARNING:langchain_community.utils.user_agent:USER_AGENT environment variable not set, consider setting it to identify your requests.\n"
          ]
        }
      ]
    },
    {
      "cell_type": "markdown",
      "source": [
        "## Test connection"
      ],
      "metadata": {
        "id": "ZNPhL84YiC7M"
      }
    },
    {
      "cell_type": "markdown",
      "source": [
        "Testing that we can access the page with a simple HTTP request (working as a combination of `request.get` and `bs4.BeautifulSoup`), more info [here](https://python.langchain.com/v0.2/docs/integrations/document_loaders/web_base/)"
      ],
      "metadata": {
        "id": "2TiPeuRvgi7r"
      }
    },
    {
      "cell_type": "code",
      "source": [
        "MOVIES_URL = \"https://www.empireonline.com/movies/features/best-movies-2/\"\n",
        "\n",
        "full_page = WebBaseLoader(MOVIES_URL).load()\n",
        "if not full_page:\n",
        "  print(\"The page didn't load, but no worries we have a backup ;)\")\n",
        "else:\n",
        "  print(full_page[0].page_content[:200])"
      ],
      "metadata": {
        "colab": {
          "base_uri": "https://localhost:8080/"
        },
        "id": "0h974qYnP0Bb",
        "outputId": "9bf73344-ef98-480c-ec12-7157ccb05b18"
      },
      "execution_count": 3,
      "outputs": [
        {
          "output_type": "stream",
          "name": "stdout",
          "text": [
            "The 100 Best Movies Of All Time | Movies | %%channel_name%% MoviesReviewsNewsFeaturesTVGamingPodcastsEmpire VIPShoppingEmpire MagazineSubscribeManage My SubscriptionNewsletterHome|Movies|FeaturesThe 1\n"
          ]
        }
      ]
    },
    {
      "cell_type": "markdown",
      "source": [
        "## Get data"
      ],
      "metadata": {
        "id": "NZ6a4gr4iFjd"
      }
    },
    {
      "cell_type": "markdown",
      "source": [
        "SoupStainers allow us to extract information from a html without have to load everything in memory and then doing a find_all making it a more efficient option, more info [here](https://medium.com/codex/using-beautiful-soups-soupstrainer-to-save-time-and-memory-when-web-scraping-ea1dbd2e886f)"
      ],
      "metadata": {
        "id": "qgAnn94mgIcg"
      }
    },
    {
      "cell_type": "code",
      "source": [
        "from bs4 import SoupStrainer\n",
        "\n",
        "\n",
        "def is_target_element(elem, attrs):\n",
        "    # get the movie description\n",
        "    div_class = \"listicleItem_listicle-item__content__Lxn1Y\"\n",
        "    div_mask = (elem == \"div\" and attrs.get(\"class\") == div_class)\n",
        "    # get the movie title\n",
        "    h3_class = \"listicleItem_listicle-item__title__BfenH\"\n",
        "    h3_mask = (elem == \"h3\" and attrs.get(\"class\") == h3_class)\n",
        "    return div_mask or h3_mask\n",
        "\n",
        "strainer = SoupStrainer(is_target_element)\n",
        "\n",
        "\n",
        "movie_scraper = WebBaseLoader(\n",
        "    MOVIES_URL,\n",
        "    bs_kwargs = {\n",
        "        \"parse_only\": strainer\n",
        "    }\n",
        ")\n",
        "\n",
        "movie_reviews_raw = movie_scraper.load()"
      ],
      "metadata": {
        "id": "7VbgLZr_JOb-"
      },
      "execution_count": 4,
      "outputs": []
    },
    {
      "cell_type": "code",
      "source": [
        "if (\n",
        "    not movie_reviews_raw\n",
        "    or movie_reviews_raw[0].page_content != \"100 Reservoir Dogs\\nMaking\"\n",
        "):\n",
        "  import pickle\n",
        "  import urllib\n",
        "  BACKUP_MOVIES_PKL_URL = \"https://tutorials-public.s3.eu-west-1.amazonaws.com/movie_reviews_raw.pkl\"\n",
        "  with urllib.request.urlopen(BACKUP_MOVIES_PKL_URL) as response:\n",
        "      movie_reviews_raw = pickle.load(response)\n",
        "  print(\"loaded list of top 10 best movies from backup system\")\n",
        "else:\n",
        "  print(\"successfully scrapped list of top 10 best movies\")"
      ],
      "metadata": {
        "colab": {
          "base_uri": "https://localhost:8080/"
        },
        "id": "UkbukTHlcdwz",
        "outputId": "449f2d97-6701-4fc3-d04d-d4f765f54bdc"
      },
      "execution_count": 5,
      "outputs": [
        {
          "output_type": "stream",
          "name": "stdout",
          "text": [
            "loaded list of top 10 best movies from backup system\n"
          ]
        }
      ]
    },
    {
      "cell_type": "markdown",
      "source": [
        "# Process data"
      ],
      "metadata": {
        "id": "cxYJEexOiNwM"
      }
    },
    {
      "cell_type": "markdown",
      "source": [
        "All the movie reviews come as a single document, but we want to split them and remove the links to the full movie reviews at the end of each block"
      ],
      "metadata": {
        "id": "lBVaXXfDg24g"
      }
    },
    {
      "cell_type": "code",
      "source": [
        "import re\n",
        "from langchain.docstore.document import Document\n",
        "\n",
        "\n",
        "def split_movies(page: Document) -> list[Document]:\n",
        "  page_parts = page.page_content.strip().split(\"\\n\")\n",
        "  names_n_reviews = [elem for elem in page_parts if not elem.startswith(\"Read\")]\n",
        "  movie_names = [re.sub(r'^\\d*\\)? ', \"\", name) for name in names_n_reviews[::2]]\n",
        "  movie_reviews = [\n",
        "      f\"{name}: {description}\"\n",
        "      for name, description in zip(movie_names, names_n_reviews[1::2])\n",
        "  ]\n",
        "  movie_docs = [\n",
        "      Document(review, metadata={**page.metadata, \"rank\": i, \"name\": name})\n",
        "      for review, i, name in zip(movie_reviews, range(100, 0, -1), movie_names)\n",
        "  ]\n",
        "  return movie_docs"
      ],
      "metadata": {
        "id": "hP-dJTmDby2f"
      },
      "execution_count": 24,
      "outputs": []
    },
    {
      "cell_type": "code",
      "source": [
        "movie_reviews = split_movies(movie_reviews_raw[0])\n",
        "print(f\"extracted {len(movie_reviews)}\")\n",
        "movie_reviews[0]"
      ],
      "metadata": {
        "colab": {
          "base_uri": "https://localhost:8080/"
        },
        "id": "dhkDp7rtS5VN",
        "outputId": "de01e40e-32d8-41d1-f318-fd2887ce0ecb"
      },
      "execution_count": 25,
      "outputs": [
        {
          "output_type": "stream",
          "name": "stdout",
          "text": [
            "extracted 100\n"
          ]
        },
        {
          "output_type": "execute_result",
          "data": {
            "text/plain": [
              "Document(page_content=\"Reservoir Dogs: Making his uber cool and supremely confident directorial debut, Quentin Tarantino hit audiences with a terrific twist on the heist-gone-wrong thriller. For the most part a single location chamber piece, Reservoir Dogs delights in ricocheting the zing and fizz of its dialogue around its gloriously —and indeed gore-iously) — intense setting, with the majority of the movie's action centring around one long and incredibly bloody death scene. Packing killer lines, killer needledrops, and killer, er, killers too, not only is this a rollicking ride in its own right, but it also set the blueprint for everything we've come to expect from a Tarantino joint. Oh, and by the way: Nice Guy Eddie was shot by Mr. White. Who fired twice. Case closed.\", metadata={'source': 'https://www.empireonline.com/movies/features/best-movies-2/', 'rank': 100, 'name': 'Reservoir Dogs'})"
            ]
          },
          "metadata": {},
          "execution_count": 25
        }
      ]
    },
    {
      "cell_type": "markdown",
      "source": [
        "## Data Analysis\n",
        "Let's check there are any issues with the data and understand how much we will be charged by OpenAI taking into account that we are charge by token sent to their API. There way of tokenizing the by OpenAI is via tiktoken.\n"
      ],
      "metadata": {
        "id": "Jjk58lS1HqVV"
      }
    },
    {
      "cell_type": "code",
      "source": [
        "import tiktoken\n",
        "import pandas as pd\n",
        "\n",
        "\n",
        "def count_tokens(string: str, encoding_name: str) -> int:\n",
        "    \"\"\"Returns the number of tokens in a text string.\"\"\"\n",
        "    encoding = tiktoken.get_encoding(encoding_name)\n",
        "    num_tokens = len(encoding.encode(string))\n",
        "    return num_tokens\n",
        "\n",
        "token_counts = pd.Series(movie_reviews).apply(\n",
        "    lambda doc: count_tokens(doc.page_content, \"cl100k_base\")\n",
        ")\n",
        "token_counts.plot.hist(bins=20);"
      ],
      "metadata": {
        "colab": {
          "base_uri": "https://localhost:8080/",
          "height": 450
        },
        "id": "iS7kL4QdiOqb",
        "outputId": "4af50283-334e-46dd-9254-dbac4d228bec"
      },
      "execution_count": 26,
      "outputs": [
        {
          "output_type": "display_data",
          "data": {
            "text/plain": [
              "<Figure size 640x480 with 1 Axes>"
            ],
            "image/png": "[encoded data removed]"
          },
          "metadata": {}
        }
      ]
    },
    {
      "cell_type": "markdown",
      "source": [
        "We notice that there is one movie with a lot more tokens then the other. So we check that there are no issues."
      ],
      "metadata": {
        "id": "LVf6-oaklWnT"
      }
    },
    {
      "cell_type": "code",
      "source": [
        "import numpy as np\n",
        "\n",
        "movie_reviews[np.argmax(token_counts)].page_content"
      ],
      "metadata": {
        "colab": {
          "base_uri": "https://localhost:8080/",
          "height": 373
        },
        "id": "mAskiFTGlYoM",
        "outputId": "38635872-fb74-487e-9c8e-acce9ff13ac0"
      },
      "execution_count": 27,
      "outputs": [
        {
          "output_type": "execute_result",
          "data": {
            "text/plain": [
              "\"The Lord Of The Rings: The Fellowship Of The Ring: A wizard is never late. Nor is he early. He arrives precisely when he... well, you know the rest. It might have taken 20 years for Peter Jackson's plucky fantasy to clamber, Mount-Doom-style, to the very pinnacle of our greatest-movies pantheon. But here it is, brighter and more resplendent than ever.The Fellowship Of The Ring contains so much movie. Even at the halfway point, as the characters take a breather to bicker in Rivendell, you already feel sated, like you've experienced more thrills, more suspense, more jollity and ethereal beauty than a regular film could possibly muster up. But Jackson is only getting started. Onwards his adventure hustles, to the bravura dungeoneering of Khazad-dum, to the sinisterly serene glades of Lothlorien, to the final requiem for flawed Boromir amidst autumnal leaves. As Fellowship thrums to its conclusion, finally applying the brakes with a last swell of Howard Shore's heavenly score, you're left feeling euphoric, bereft and hopeful, all at the same time. The Two Towers has the coolest battle. The Return Of The King boasts the most batshit, operatic spectacle. But Fellowship remains the most perfect of the three, matching every genius action beat with a soul-stirring emotional one, as its Middle-earth-traversing gang swells in size in the first act, then dwindles in the third. This oddball suicide squad has so much warmth and wit, they're not just believable as friends of each other — they've come to feel like they're our pals too.An ornately detailed masterwork with a huge, pulsing heart, it's just the right film for our times — full of craft, conviction and a belief that trudging forward, step by step, in dark days is the bravest act of all. Its ultimate heroes aren't the strongest, or those with the best one-liners, but the ones who just keep going. And so Fellowship endures: a miracle of storytelling, a feat of filmmaking and still the gold standard for cinematic experiences. Right, now that's decided, who's up for second breakfast?\""
            ],
            "application/vnd.google.colaboratory.intrinsic+json": {
              "type": "string"
            }
          },
          "metadata": {},
          "execution_count": 27
        }
      ]
    },
    {
      "cell_type": "markdown",
      "source": [
        "# Set up database"
      ],
      "metadata": {
        "id": "UN3wmbgnitOb"
      }
    },
    {
      "cell_type": "markdown",
      "source": [
        "## Embedding\n",
        "Creating an embedding using Open API's models, more infor [here](https://platform.openai.com/docs/guides/embeddings)"
      ],
      "metadata": {
        "id": "ajXGvyomsU1D"
      }
    },
    {
      "cell_type": "code",
      "source": [
        "import getpass\n",
        "OPENAI_API_KEY = getpass.getpass()\n",
        "os.environ[\"OPENAI_API_KEY\"] = OPENAI_API_KEY"
      ],
      "metadata": {
        "colab": {
          "base_uri": "https://localhost:8080/"
        },
        "id": "zv3yskBxn9rU",
        "outputId": "98d26f26-7c16-44b4-f5fc-8b53b844c2a0"
      },
      "execution_count": 10,
      "outputs": [
        {
          "name": "stdout",
          "output_type": "stream",
          "text": [
            "··········\n"
          ]
        }
      ]
    },
    {
      "cell_type": "code",
      "source": [
        "from langchain_openai import OpenAIEmbeddings\n",
        "\n",
        "EMBEDDING_MODEL_NAME = \"text-embedding-3-large\"\n",
        "\n",
        "embeder = OpenAIEmbeddings(model=EMBEDDING_MODEL_NAME)\n",
        "\n",
        "# testing embeding\n",
        "test_embedding = embeder.embed_query(\"What is 'Hello World'?\")\n",
        "print(test_embedding[:5])\n",
        "print(f\"the model {EMBEDDING_MODEL_NAME} generates embeddings of length: {len(test_embedding)}\")"
      ],
      "metadata": {
        "colab": {
          "base_uri": "https://localhost:8080/"
        },
        "id": "RAzObdp5v1Wm",
        "outputId": "2ba3b391-1af4-427b-94d1-5dee8f5741bd"
      },
      "execution_count": 11,
      "outputs": [
        {
          "output_type": "stream",
          "name": "stdout",
          "text": [
            "[-0.015853295102715492, -0.056399740278720856, -0.014421384781599045, 0.019666852429509163, -0.017855048179626465]\n",
            "the model text-embedding-3-large generates embeddings of length: 3072\n"
          ]
        }
      ]
    },
    {
      "cell_type": "markdown",
      "source": [
        "## Insertion in Index"
      ],
      "metadata": {
        "id": "TR1ruAFgi5Fu"
      }
    },
    {
      "cell_type": "code",
      "source": [
        "from langchain_text_splitters import RecursiveCharacterTextSplitter\n",
        "# docarray was imported earlier to avoid an error when using from_documents()\n",
        "\n",
        "\n",
        "text_splitter = RecursiveCharacterTextSplitter(\n",
        "    chunk_size=1000,\n",
        "    length_function=len,\n",
        ")\n",
        "\n",
        "text_splitter.split_text(movie_reviews[5].page_content)"
      ],
      "metadata": {
        "colab": {
          "base_uri": "https://localhost:8080/"
        },
        "id": "Z8X6JCW7e5kB",
        "outputId": "b4e58be5-fda3-4ab9-b50e-0415f53b4f32"
      },
      "execution_count": 13,
      "outputs": [
        {
          "output_type": "execute_result",
          "data": {
            "text/plain": [
              "[\"Donnie Darko: A high school drama with a time traveling, tangential universe threading, sinister rabbit featuring twist, Richard Kelly's deliberately labyrinthine opus was always destined for cult classic status. A certifiable flop upon its theatrical release, Kelly's film was one of the early beneficiaries of physical media's move to DVD, with the movie gaining a fandom in film obsessives who could pause, play, and skip back and forth through it at will. Any attempt to synopsise the movie is a fool's errand, but there's more than a hint of\\xa0It's A Wonderful Life in the way we see Donnie (Jake Gyllenhaal, in a star-making turn) experiencing how the world would be worse off if he survives the jet engine that mysteriously crashes through his bedroom. That the film, with all its heavy themes and brooding atmosphere, manages to eventually land on a note of overwhelming optimism is a testament to Kelly's mercurial moviemaking. A mad world (mad world) Donnie Darko's may be, but it's also one\",\n",
              " \"brooding atmosphere, manages to eventually land on a note of overwhelming optimism is a testament to Kelly's mercurial moviemaking. A mad world (mad world) Donnie Darko's may be, but it's also one that continues to beguile and fascinate as new fans find themselves obsessed with uncovering its mysteries.\"]"
            ]
          },
          "metadata": {},
          "execution_count": 13
        }
      ]
    },
    {
      "cell_type": "code",
      "source": [
        "from langchain.indexes import VectorstoreIndexCreator\n",
        "from langchain.vectorstores import DocArrayInMemorySearch\n",
        "\n",
        "\n",
        "index = VectorstoreIndexCreator(\n",
        "    vectorstore_cls=DocArrayInMemorySearch,\n",
        "    embedding=embeder,\n",
        "    text_splitter=text_splitter,\n",
        ").from_documents(movie_reviews)"
      ],
      "metadata": {
        "colab": {
          "base_uri": "https://localhost:8080/"
        },
        "id": "f7YXL_fvIWUr",
        "outputId": "930395b9-628b-47d1-cea8-af224ee9e8f3"
      },
      "execution_count": 14,
      "outputs": [
        {
          "output_type": "stream",
          "name": "stderr",
          "text": [
            "/usr/local/lib/python3.10/dist-packages/pydantic/_migration.py:283: UserWarning: `pydantic.error_wrappers:ValidationError` has been moved to `pydantic:ValidationError`.\n",
            "  warnings.warn(f'`{import_path}` has been moved to `{new_location}`.')\n"
          ]
        }
      ]
    },
    {
      "cell_type": "code",
      "source": [
        "retriever = index.vectorstore.as_retriever()\n",
        "relevant_movies = retriever.vectorstore.similarity_search(\n",
        "    \"Can you recommend me an adventure movie?\",\n",
        "    k=3 # by default k=4\n",
        ")\n",
        "for doc in relevant_movies:\n",
        "  print(doc.page_content)"
      ],
      "metadata": {
        "colab": {
          "base_uri": "https://localhost:8080/"
        },
        "id": "PEE6lvTv3XAO",
        "outputId": "44c566b0-fc79-4fc9-b8ed-54411ecdc46c"
      },
      "execution_count": 22,
      "outputs": [
        {
          "output_type": "stream",
          "name": "stdout",
          "text": [
            "Indiana Jones And The Last Crusade: You voted... wisely. There may only be 12 years' difference between Harrison Ford and Sean Connery, but it's hard to imagine two better actors to play a bickering father and son, off on a globetrotting, Nazi-bashing, mythical mystery tour. After all, you've got Spielberg/Lucas' own version of James Bond... And the original Bond himself.\n",
            "Raiders Of The Lost Ark: In '81, it must have sounded like the ultimate pitch: the creator of Star Wars teams up with the director of Jaws to make a rip-roaring, Bond-style adventure starring the guy who played Han Solo, in which the bad guys are the evillest ever (the Nazis) and the MacGuffin is a big, gold box which unleashes the power of God. It still sounds like the ultimate pitch.\n",
            "Lawrence Of Arabia: If you only ever see one David Lean movie... well, don't. Watch as many as you can. But if you really insist on only seeing one David Lean movie, then make sure it's Lawrence Of Arabia, the movie that put both the \"sweeping\" and the \"epic\" into \"sweeping epic\" with its breath-taking depiction of T.E. Lawrence's (Peter O'Toole) Arab-uniting efforts against the German-allied Turks during World War I. It's a different world to the one we're in now, of course, but Lean's mastery of expansive storytelling does much to smooth out any elements (such as Alec Guinness playing an Arab) that may rankle modern sensibilities.\n"
          ]
        }
      ]
    },
    {
      "cell_type": "markdown",
      "source": [
        "As you can see the embeddings worked properly as we have succesfully extracted 3 adventure movies."
      ],
      "metadata": {
        "id": "B0C6hALIQ1kH"
      }
    },
    {
      "cell_type": "markdown",
      "source": [
        "# LLM"
      ],
      "metadata": {
        "id": "ppUG3Smplon3"
      }
    },
    {
      "cell_type": "code",
      "source": [
        "from langchain_openai import ChatOpenAI\n",
        "\n",
        "LLM_MODEL_NAME = \"gpt-3.5-turbo\"\n",
        "llm = ChatOpenAI(\n",
        "    model=LLM_MODEL_NAME,\n",
        "    # higher temperature means more orginal answers so we set it to the max\n",
        "    temperature=1,\n",
        "    max_tokens=None,\n",
        "    timeout=None,\n",
        "    max_retries=2,\n",
        ")\n",
        "\n",
        "# testing that the LLM works\n",
        "llm.invoke(\"Hey how are you GPTie?\")"
      ],
      "metadata": {
        "colab": {
          "base_uri": "https://localhost:8080/"
        },
        "id": "WeksLIMMsRJa",
        "outputId": "15f7beff-9371-4a34-8fac-ffc6ecdce787"
      },
      "execution_count": 16,
      "outputs": [
        {
          "output_type": "execute_result",
          "data": {
            "text/plain": [
              "AIMessage(content=\"Hello! I'm just a language model AI, so I don't have feelings, but I'm here to help you with anything you need. How can I assist you today?\", response_metadata={'token_usage': {'completion_tokens': 36, 'prompt_tokens': 15, 'total_tokens': 51}, 'model_name': 'gpt-3.5-turbo-0125', 'system_fingerprint': None, 'finish_reason': 'stop', 'logprobs': None}, id='run-5d06f640-a9ef-411a-95c0-850080cacb28-0', usage_metadata={'input_tokens': 15, 'output_tokens': 36, 'total_tokens': 51})"
            ]
          },
          "metadata": {},
          "execution_count": 16
        }
      ]
    },
    {
      "cell_type": "code",
      "source": [
        "from langchain import hub\n",
        "\n",
        "#chat_template = hub.pull()"
      ],
      "metadata": {
        "id": "jvOlaoIYrfhM"
      },
      "execution_count": 17,
      "outputs": []
    },
    {
      "cell_type": "code",
      "source": [
        "from langchain.chains.combine_documents import create_stuff_documents_chain\n",
        "from langchain.chains import create_retrieval_chain\n",
        "\n",
        "#combine_docs_chain = create_stuff_documents_chain(llm, chat_template)\n",
        "#chat_chain = create_retrieval_chain(full_article_retriever, combine_docs_chain)\n",
        "\n",
        "#chat_answer = chat_chain.invoke({\"input\": EASY_QUESTION})"
      ],
      "metadata": {
        "id": "V0SPnAXCqGi6"
      },
      "execution_count": 18,
      "outputs": []
    },
    {
      "cell_type": "code",
      "source": [],
      "metadata": {
        "id": "trTlk9qYrxsV"
      },
      "execution_count": 18,
      "outputs": []
    },
    {
      "cell_type": "code",
      "source": [],
      "metadata": {
        "id": "H73dm7w7rxvm"
      },
      "execution_count": 18,
      "outputs": []
    },
    {
      "cell_type": "code",
      "source": [
        "#from langsmith import Client"
      ],
      "metadata": {
        "id": "qoN_cQ1arxzO"
      },
      "execution_count": 19,
      "outputs": []
    },
    {
      "cell_type": "code",
      "source": [],
      "metadata": {
        "id": "FW5dxVqFrx3g"
      },
      "execution_count": 19,
      "outputs": []
    },
    {
      "cell_type": "code",
      "source": [],
      "metadata": {
        "id": "Qozcg3Iyrx7T"
      },
      "execution_count": 19,
      "outputs": []
    },
    {
      "cell_type": "code",
      "source": [],
      "metadata": {
        "id": "a_HmcMfarx_F"
      },
      "execution_count": 19,
      "outputs": []
    },
    {
      "cell_type": "code",
      "source": [],
      "metadata": {
        "id": "5XkkTz_IryEY"
      },
      "execution_count": 19,
      "outputs": []
    }
  ]
}