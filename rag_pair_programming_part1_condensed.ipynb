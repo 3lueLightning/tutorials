{
  "nbformat": 4,
  "nbformat_minor": 0,
  "metadata": {
    "colab": {
      "provenance": [],
      "authorship_tag": "ABX9TyORrb15nFPq71oxmFwsQwme",
      "include_colab_link": true
    },
    "kernelspec": {
      "name": "python3",
      "display_name": "Python 3"
    },
    "language_info": {
      "name": "python"
    }
  },
  "cells": [
    {
      "cell_type": "markdown",
      "metadata": {
        "id": "view-in-github",
        "colab_type": "text"
      },
      "source": [
        "<a href=\"https://colab.research.google.com/github/3lueLightning/tutorials/blob/main/rag_pair_programming_part1_condensed.ipynb\" target=\"_parent\"><img src=\"https://colab.research.google.com/assets/colab-badge.svg\" alt=\"Open In Colab\"/></a>"
      ]
    },
    {
      "cell_type": "code",
      "source": [
        "! pip install -q langchain langchain_community langchain_openai \\\n",
        "langchain_text_splitters docarray"
      ],
      "metadata": {
        "colab": {
          "base_uri": "https://localhost:8080/"
        },
        "id": "JV3JwMljpDKX",
        "outputId": "ee2fe82e-429e-4038-fc23-f138cfdf5a1a"
      },
      "execution_count": null,
      "outputs": [
        {
          "output_type": "stream",
          "name": "stdout",
          "text": [
            "\u001b[2K     \u001b[90m━━━━━━━━━━━━━━━━━━━━━━━━━━━━━━━━━━━━━━━━\u001b[0m \u001b[32m50.4/50.4 kB\u001b[0m \u001b[31m1.2 MB/s\u001b[0m eta \u001b[36m0:00:00\u001b[0m\n",
            "\u001b[2K   \u001b[90m━━━━━━━━━━━━━━━━━━━━━━━━━━━━━━━━━━━━━━━━\u001b[0m \u001b[32m990.6/990.6 kB\u001b[0m \u001b[31m24.1 MB/s\u001b[0m eta \u001b[36m0:00:00\u001b[0m\n",
            "\u001b[2K   \u001b[90m━━━━━━━━━━━━━━━━━━━━━━━━━━━━━━━━━━━━━━━━\u001b[0m \u001b[32m2.3/2.3 MB\u001b[0m \u001b[31m44.8 MB/s\u001b[0m eta \u001b[36m0:00:00\u001b[0m\n",
            "\u001b[2K   \u001b[90m━━━━━━━━━━━━━━━━━━━━━━━━━━━━━━━━━━━━━━━━\u001b[0m \u001b[32m1.1/1.1 MB\u001b[0m \u001b[31m28.6 MB/s\u001b[0m eta \u001b[36m0:00:00\u001b[0m\n",
            "\u001b[2K   \u001b[90m━━━━━━━━━━━━━━━━━━━━━━━━━━━━━━━━━━━━━━━━\u001b[0m \u001b[32m48.2/48.2 kB\u001b[0m \u001b[31m2.3 MB/s\u001b[0m eta \u001b[36m0:00:00\u001b[0m\n",
            "\u001b[2K   \u001b[90m━━━━━━━━━━━━━━━━━━━━━━━━━━━━━━━━━━━━━━━━\u001b[0m \u001b[32m270.2/270.2 kB\u001b[0m \u001b[31m15.8 MB/s\u001b[0m eta \u001b[36m0:00:00\u001b[0m\n",
            "\u001b[2K   \u001b[90m━━━━━━━━━━━━━━━━━━━━━━━━━━━━━━━━━━━━━━━━\u001b[0m \u001b[32m140.2/140.2 kB\u001b[0m \u001b[31m7.5 MB/s\u001b[0m eta \u001b[36m0:00:00\u001b[0m\n",
            "\u001b[2K   \u001b[90m━━━━━━━━━━━━━━━━━━━━━━━━━━━━━━━━━━━━━━━━\u001b[0m \u001b[32m384.0/384.0 kB\u001b[0m \u001b[31m19.3 MB/s\u001b[0m eta \u001b[36m0:00:00\u001b[0m\n",
            "\u001b[2K   \u001b[90m━━━━━━━━━━━━━━━━━━━━━━━━━━━━━━━━━━━━━━━━\u001b[0m \u001b[32m360.7/360.7 kB\u001b[0m \u001b[31m17.0 MB/s\u001b[0m eta \u001b[36m0:00:00\u001b[0m\n",
            "\u001b[2K   \u001b[90m━━━━━━━━━━━━━━━━━━━━━━━━━━━━━━━━━━━━━━━━\u001b[0m \u001b[32m141.9/141.9 kB\u001b[0m \u001b[31m8.2 MB/s\u001b[0m eta \u001b[36m0:00:00\u001b[0m\n",
            "\u001b[2K   \u001b[90m━━━━━━━━━━━━━━━━━━━━━━━━━━━━━━━━━━━━━━━━\u001b[0m \u001b[32m75.6/75.6 kB\u001b[0m \u001b[31m4.7 MB/s\u001b[0m eta \u001b[36m0:00:00\u001b[0m\n",
            "\u001b[2K   \u001b[90m━━━━━━━━━━━━━━━━━━━━━━━━━━━━━━━━━━━━━━━━\u001b[0m \u001b[32m77.9/77.9 kB\u001b[0m \u001b[31m3.6 MB/s\u001b[0m eta \u001b[36m0:00:00\u001b[0m\n",
            "\u001b[2K   \u001b[90m━━━━━━━━━━━━━━━━━━━━━━━━━━━━━━━━━━━━━━━━\u001b[0m \u001b[32m318.9/318.9 kB\u001b[0m \u001b[31m17.5 MB/s\u001b[0m eta \u001b[36m0:00:00\u001b[0m\n",
            "\u001b[2K   \u001b[90m━━━━━━━━━━━━━━━━━━━━━━━━━━━━━━━━━━━━━━━━\u001b[0m \u001b[32m49.2/49.2 kB\u001b[0m \u001b[31m2.9 MB/s\u001b[0m eta \u001b[36m0:00:00\u001b[0m\n",
            "\u001b[2K   \u001b[90m━━━━━━━━━━━━━━━━━━━━━━━━━━━━━━━━━━━━━━━━\u001b[0m \u001b[32m58.3/58.3 kB\u001b[0m \u001b[31m3.7 MB/s\u001b[0m eta \u001b[36m0:00:00\u001b[0m\n",
            "\u001b[?25h"
          ]
        }
      ]
    },
    {
      "cell_type": "code",
      "source": [
        "import os\n",
        "import re\n",
        "import pickle\n",
        "import urllib\n",
        "import getpass\n",
        "from pprint import pprint\n",
        "\n",
        "from bs4 import SoupStrainer\n",
        "from langchain.docstore.document import Document\n",
        "from langchain.indexes import VectorstoreIndexCreator\n",
        "from langchain.vectorstores import DocArrayInMemorySearch\n",
        "from langchain.chains import create_retrieval_chain\n",
        "from langchain.chains.combine_documents import create_stuff_documents_chain\n",
        "from langchain_openai import ChatOpenAI, OpenAIEmbeddings\n",
        "from langchain_core.prompts import ChatPromptTemplate\n",
        "from langchain_community.document_loaders import WebBaseLoader\n",
        "from langchain_text_splitters import RecursiveCharacterTextSplitter"
      ],
      "metadata": {
        "colab": {
          "base_uri": "https://localhost:8080/"
        },
        "id": "GjDsnZa8q-Cx",
        "outputId": "8901bae4-f5f9-45fb-a743-b05bc28bf5b6"
      },
      "execution_count": null,
      "outputs": [
        {
          "output_type": "stream",
          "name": "stderr",
          "text": [
            "WARNING:langchain_community.utils.user_agent:USER_AGENT environment variable not set, consider setting it to identify your requests.\n"
          ]
        }
      ]
    },
    {
      "cell_type": "code",
      "source": [
        "OPENAI_API_KEY = getpass.getpass()\n",
        "os.environ[\"OPENAI_API_KEY\"] = OPENAI_API_KEY"
      ],
      "metadata": {
        "colab": {
          "base_uri": "https://localhost:8080/"
        },
        "id": "jsNrIcTUxXui",
        "outputId": "7421c1b3-4fbe-4c8c-9a98-79ad91c7c738"
      },
      "execution_count": null,
      "outputs": [
        {
          "name": "stdout",
          "output_type": "stream",
          "text": [
            "··········\n"
          ]
        }
      ]
    },
    {
      "cell_type": "markdown",
      "source": [
        "# 1. Loading the data"
      ],
      "metadata": {
        "id": "i1baH1CZw8Tl"
      }
    },
    {
      "cell_type": "code",
      "source": [
        "# this site allows crawlers\n",
        "MOVIES_URL = \"https://www.empireonline.com/movies/features/best-movies-2/\"\n",
        "\n",
        "# In the tutorial I added some extra try-excepts to avoid issues. In real life\n",
        "# I'd test this line and if it succeeded I'd remove this entire cell.\n",
        "try:\n",
        "  full_page = WebBaseLoader(MOVIES_URL).load()\n",
        "  print(\"Loaded site sucessfully, data sample: \" +\\\n",
        "        full_page[0].page_content[:50])\n",
        "except:\n",
        "  # I know it's not super clean to make an catch all exception\n",
        "  # but I rather be safe then sorry :P\n",
        "  full_page = []\n",
        "  print(\"The page didn't load, but no worries we have a backup ;)\")\n",
        "\n",
        "\n",
        "def is_target_element(elem: str, attrs: dict) -> bool:\n",
        "    \"\"\"\n",
        "    Returns true if the HTML element is what we want to extract.\n",
        "    \"\"\"\n",
        "    # get the movie description\n",
        "    div_class = \"listicleItem_listicle-item__content__Lxn1Y\"\n",
        "    div_mask = (elem == \"div\" and attrs.get(\"class\") == div_class)\n",
        "    # get the movie title\n",
        "    h3_class = \"listicleItem_listicle-item__title__BfenH\"\n",
        "    h3_mask = (elem == \"h3\" and attrs.get(\"class\") == h3_class)\n",
        "    return div_mask or h3_mask\n",
        "\n",
        "strainer = SoupStrainer(is_target_element)\n",
        "\n",
        "movie_scraper = WebBaseLoader(\n",
        "    MOVIES_URL,\n",
        "    bs_kwargs = {\n",
        "        \"parse_only\": strainer\n",
        "    }\n",
        ")\n",
        "\n",
        "# this try except is to prevent the code from crashing in case something\n",
        "# happens to the page\n",
        "try:\n",
        "  # only here is the page actually loaded\n",
        "  movie_reviews_raw = movie_scraper.load()\n",
        "except:\n",
        "  movie_reviews_raw = []"
      ],
      "metadata": {
        "colab": {
          "base_uri": "https://localhost:8080/"
        },
        "id": "eUVB2t3BqfvC",
        "outputId": "814d7872-e527-4e5c-9afc-34597582d9e5"
      },
      "execution_count": null,
      "outputs": [
        {
          "output_type": "stream",
          "name": "stdout",
          "text": [
            "Loaded site sucessfully, data sample: The 100 Best Movies Of All Time | Movies | %%chann\n"
          ]
        }
      ]
    },
    {
      "cell_type": "code",
      "source": [
        "# no need to read this cell it is just a backup system in case the scraping fails\n",
        "if (\n",
        "    not movie_reviews_raw\n",
        "    or movie_reviews_raw[0].page_content[:25] != \"100 Reservoir Dogs\\nMaking\"\n",
        "):\n",
        "  BACKUP_MOVIES_PKL_URL = \"https://tutorials-public.s3.eu-west-1.amazonaws.com/movie_reviews_raw.pkl\"\n",
        "  with urllib.request.urlopen(BACKUP_MOVIES_PKL_URL) as response:\n",
        "      movie_reviews_raw = pickle.load(response)\n",
        "  print(\"loaded list of top 10 best movies from backup system\")\n",
        "else:\n",
        "  print(\"successfully scrapped list of top 10 best movies\")"
      ],
      "metadata": {
        "colab": {
          "base_uri": "https://localhost:8080/"
        },
        "id": "b2By8Uzc7DHO",
        "outputId": "33a4e3e0-8d15-4b34-e37e-7f826b96ae08"
      },
      "execution_count": null,
      "outputs": [
        {
          "output_type": "stream",
          "name": "stdout",
          "text": [
            "successfully scrapped list of top 10 best movies\n"
          ]
        }
      ]
    },
    {
      "cell_type": "markdown",
      "source": [
        "# 2. Process data"
      ],
      "metadata": {
        "id": "ya5HKIHExCGg"
      }
    },
    {
      "cell_type": "code",
      "source": [
        "def split_movies(page: Document) -> list[Document]:\n",
        "  \"\"\"\n",
        "  Split page into a list of movie reviews\n",
        "  \"\"\"\n",
        "  page_parts = page.page_content.strip().split(\"\\n\")\n",
        "  names_n_reviews = [p for p in page_parts if not p.startswith(\"Read\")]\n",
        "  pattern = r'^\\d*\\)? '\n",
        "  movie_names = [re.sub(pattern, \"\", name) for name in names_n_reviews[::2]]\n",
        "  movie_reviews = [\n",
        "      f\"{name}: {description}\"\n",
        "      for name, description in zip(movie_names, names_n_reviews[1::2])\n",
        "  ]\n",
        "  movie_docs = [\n",
        "      Document(review, metadata={**page.metadata, \"rank\": i, \"name\": name})\n",
        "      for review, i, name in zip(movie_reviews, range(100, 0, -1), movie_names)\n",
        "  ]\n",
        "  return movie_docs\n",
        "\n",
        "\n",
        "movie_reviews = split_movies(movie_reviews_raw[0])\n",
        "print(f\"extracted {len(movie_reviews)} movie reviews\")"
      ],
      "metadata": {
        "colab": {
          "base_uri": "https://localhost:8080/"
        },
        "id": "ubvjP1ATqgPS",
        "outputId": "81f6a98f-c824-43bb-e4f6-582bec133935"
      },
      "execution_count": null,
      "outputs": [
        {
          "output_type": "stream",
          "name": "stdout",
          "text": [
            "extracted 100 movie reviews\n"
          ]
        }
      ]
    },
    {
      "cell_type": "markdown",
      "source": [
        "# 3. Set up database"
      ],
      "metadata": {
        "id": "8ky4fhgNxMkO"
      }
    },
    {
      "cell_type": "code",
      "source": [
        "# OpenAI has multiple models, transforms the text in longer vectors (here\n",
        "# length of 3072) and carries out more information about the original text.\n",
        "# It is also more expensive and requires more space to store.\n",
        "EMBEDDING_MODEL_NAME = \"text-embedding-3-large\"\n",
        "\n",
        "embeder = OpenAIEmbeddings(model=EMBEDDING_MODEL_NAME)\n",
        "text_splitter = RecursiveCharacterTextSplitter(\n",
        "    chunk_size=1000,\n",
        "    length_function=len,\n",
        ")\n",
        "\n",
        "# from_documents is the method that inserts or list of documents in the DB\n",
        "index = VectorstoreIndexCreator(\n",
        "    vectorstore_cls=DocArrayInMemorySearch,\n",
        "    embedding=embeder,\n",
        "    text_splitter=text_splitter,\n",
        ").from_documents(movie_reviews)\n",
        "\n",
        "retriever = index.vectorstore.as_retriever()\n"
      ],
      "metadata": {
        "colab": {
          "base_uri": "https://localhost:8080/"
        },
        "id": "nb_TSZ2SxNfH",
        "outputId": "37c7b69f-9416-451f-9e28-b3301ac8df7b"
      },
      "execution_count": null,
      "outputs": [
        {
          "output_type": "stream",
          "name": "stderr",
          "text": [
            "/usr/local/lib/python3.10/dist-packages/pydantic/_migration.py:283: UserWarning: `pydantic.error_wrappers:ValidationError` has been moved to `pydantic:ValidationError`.\n",
            "  warnings.warn(f'`{import_path}` has been moved to `{new_location}`.')\n"
          ]
        }
      ]
    },
    {
      "cell_type": "markdown",
      "source": [
        "# 4. Create RAG chain"
      ],
      "metadata": {
        "id": "ClEA7dyd0twh"
      }
    },
    {
      "cell_type": "code",
      "source": [
        "# this will use the API key set up above\n",
        "# note: we are note using the OpenAI API directly but using it via langchain\n",
        "\n",
        "LLM_MODEL_NAME = \"gpt-3.5-turbo\"\n",
        "llm = ChatOpenAI(\n",
        "    model=LLM_MODEL_NAME,\n",
        "    # higher temperature means more original answers\n",
        "    temperature=1,\n",
        "    max_tokens=None,\n",
        "    timeout=None,\n",
        "    max_retries=2,\n",
        ")"
      ],
      "metadata": {
        "id": "pk5AL_pb0uQd"
      },
      "execution_count": null,
      "outputs": []
    },
    {
      "cell_type": "code",
      "source": [
        "# define how the LLM should respond in general\n",
        "system_message = \"\"\"\n",
        "When asked a question reply as if you were the wizard of movies with the \\\n",
        "knowledge about movies. Try to be funny were possible but base you answers in \\\n",
        "the information provided in the context section.\\\n",
        "\"\"\"\n",
        "\n",
        "human_message = \"\"\"\n",
        "User question:\n",
        "{input}\n",
        "\n",
        "-----------------------------------------\n",
        "Context:\n",
        "{context}\n",
        "\"\"\"\n",
        "\n",
        "chat_template = ChatPromptTemplate.from_messages([\n",
        "    (\"system\", system_message),\n",
        "    (\"human\", human_message),\n",
        "])\n",
        "\n",
        "combine_docs_chain = create_stuff_documents_chain(llm, chat_template)\n",
        "chat_chain = create_retrieval_chain(retriever, combine_docs_chain)"
      ],
      "metadata": {
        "id": "n5XsY896xL6U"
      },
      "execution_count": null,
      "outputs": []
    },
    {
      "cell_type": "code",
      "source": [
        "adventure_movies = chat_chain.invoke(\n",
        "    {\"input\": \"Can you recommend me an adventure movie?\"}\n",
        ")\n",
        "# we use pprint rather then simply print to have all the text fit the screen\n",
        "pprint(adventure_movies[\"answer\"])"
      ],
      "metadata": {
        "colab": {
          "base_uri": "https://localhost:8080/"
        },
        "id": "U0SJhghO5CPP",
        "outputId": "5ca55553-1648-4cc0-acd8-0b14e7a20e80"
      },
      "execution_count": null,
      "outputs": [
        {
          "output_type": "stream",
          "name": "stdout",
          "text": [
            "('Ah, dear movie enthusiast, for an adventure movie that will have you '\n",
            " 'crossing deserts, battling Nazis, and searching for mythical artifacts, I '\n",
            " 'bestow upon you the epic tale of \"Raiders of the Lost Ark\"! Picture this: A '\n",
            " 'Han Solo-esque archaeologist on a quest for the power of God, fighting off '\n",
            " 'the evilest villains of all time - the Nazis! Directed by the masterful '\n",
            " \"Spielberg and penned by Lucas, it's the ultimate blend of action, humor, and \"\n",
            " 'heart-pounding adventure. So, grab your whip and fedora, and prepare for a '\n",
            " 'cinematic journey that will leave you on the edge of your seat!')\n"
          ]
        }
      ]
    },
    {
      "cell_type": "code",
      "source": [
        "surrealist_movies = chat_chain.invoke(\n",
        "    {\"input\": \"Which surrealist movies should I watch ?\"}\n",
        ")\n",
        "for key, val in surrealist_movies.items():\n",
        "  print(10 * \"-\" + f\" {key} \" + 10 * \"-\")\n",
        "  pprint(val)"
      ],
      "metadata": {
        "colab": {
          "base_uri": "https://localhost:8080/"
        },
        "id": "31FAJLJuqgRp",
        "outputId": "798c49f5-910f-4669-c8c4-07ad29de3afa"
      },
      "execution_count": null,
      "outputs": [
        {
          "output_type": "stream",
          "name": "stdout",
          "text": [
            "---------- input ----------\n",
            "'Which surrealist movies should I watch ?'\n",
            "---------- context ----------\n",
            "[Document(metadata={'source': 'https://www.empireonline.com/movies/features/best-movies-2/', 'rank': 61, 'name': \"Pan's Labyrinth\"}, page_content=\"Pan's Labyrinth: Guillermo Del Toro's fairy tale for grown-ups, as pull-no-punches brutal as it is gorgeously, baroquely fantastical. There's an earthy, primal feel to his fairy-world here, alien and threatening rather than gasp-inducing and 'magical', thanks in no small part to the truly cheese-dream nightmarish demon-things Del Toro conjures up, sans CGI, with the assistance of performer Doug Jones.\"),\n",
            " Document(metadata={'source': 'https://www.empireonline.com/movies/features/best-movies-2/', 'rank': 97, 'name': 'Amelie'}, page_content=\"Amelie: Jean-Pierre Jeunet's fourth feature – his second as a solo artist divorced from Marc Caro – saw the\\xa0Delicatessen,\\xa0The City of Lost Children\\xa0and\\xa0Alien: Resurrection filmmaker leave behind the overwhelming darkness of his earlier works and step out into the glorious sunshine of Amelie's whimsical fantasy Paris. Sure, a cynic could read the film as the story of Audrey Tatou's monomaniacal title character's relentless, somewhat stalkerish pursuit of the hapless Nino (Matthieu Kassovitz) around Montmartre's dream-like cityscape. But this one isn't for the cynics — it's a tribute to the daydreamers of this world. It's a sweet, nostalgic, sentimental, beautifully sunny, and unforcedly quirky romantic comedy played out amidst a veritable visual fantasia that only Jeunet could have conceived. Amelie will always be on our list of things we like.\"),\n",
            " Document(metadata={'source': 'https://www.empireonline.com/movies/features/best-movies-2/', 'rank': 50, 'name': 'Vertigo'}, page_content=\"Vertigo: If Psycho was Hitchcock's big shocker, then Vertigo is the one that gets properly under your skin. With James Stewart's detective stalking Kim Novak's mysterious woman, witnessing her suicide, then becoming obsessed with her double, it's certainly disturbing and most definitely (as the title suggests) disorientating. In the most artful and inventive way.\"),\n",
            " Document(metadata={'source': 'https://www.empireonline.com/movies/features/best-movies-2/', 'rank': 73, 'name': 'Mulholland Drive'}, page_content=\"Mulholland Drive: David Lynch messes with Hollywood itself in a mystery tale that's as twisted as the road it's named after, while presenting Tinseltown as both Dream Factory and a realm of Nightmares. It also put Naomi Watts on the map; her audition scene remains as stunning as it was 20 years ago.\")]\n",
            "---------- answer ----------\n",
            "('Ah, dear movie enthusiast, for a journey into the wondrous world of '\n",
            " 'surrealist cinema, I bestow upon thee a list of cinematic treasures that '\n",
            " 'shall unravel the very fabric of reality itself!\\n'\n",
            " '\\n'\n",
            " '1. **\"Pan\\'s Labyrinth\"**: Enter Guillermo Del Toro\\'s twisted fairy tale '\n",
            " 'realm, where fantastical creatures dance with nightmarish demons in a brutal '\n",
            " 'yet visually stunning display. Prepare to be enchanted and terrified in '\n",
            " 'equal measure!\\n'\n",
            " '\\n'\n",
            " '2. **\"Amelie\"**: Join the whimsical journey of Amelie as she navigates a '\n",
            " 'dream-like Paris in this romantic comedy that celebrates the beauty of '\n",
            " 'daydreamers. Follow her quirky adventures and fall in love with the '\n",
            " 'enchanting visuals of Jean-Pierre Jeunet.\\n'\n",
            " '\\n'\n",
            " '3. **\"Vertigo\"**: Hitchcock\\'s masterpiece that delves deep into the psyche '\n",
            " 'of obsession and disorientation. Lose yourself in the haunting tale of James '\n",
            " \"Stewart's detective as he spirals into a mesmerizing world of mystery and \"\n",
            " 'intrigue.\\n'\n",
            " '\\n'\n",
            " '4. **\"Mulholland Drive\"**: Allow David Lynch to guide you through the dark '\n",
            " 'underbelly of Hollywood in a twisted and mind-bending narrative that blurs '\n",
            " 'the lines between dreams and reality. Naomi Watts shines in this surreal '\n",
            " 'journey that will leave you questioning everything you thought you knew '\n",
            " 'about Tinseltown.\\n'\n",
            " '\\n'\n",
            " 'Embrace the surreal, dear viewer, and let these films take you on a '\n",
            " 'mesmerizing trip through the surreal landscape of cinema magic!')\n"
          ]
        }
      ]
    }
  ]
}